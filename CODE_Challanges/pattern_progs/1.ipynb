{
 "cells": [
  {
   "cell_type": "code",
   "execution_count": null,
   "metadata": {},
   "outputs": [],
   "source": []
  },
  {
   "cell_type": "code",
   "execution_count": null,
   "metadata": {},
   "outputs": [],
   "source": []
  },
  {
   "cell_type": "code",
   "execution_count": 4,
   "metadata": {},
   "outputs": [
    {
     "name": "stdout",
     "output_type": "stream",
     "text": [
      "A A A A A A \n",
      "B B B B B B \n",
      "C C C C C C \n",
      "D D D D D D \n",
      "E E E E E E \n",
      "F F F F F F \n"
     ]
    }
   ],
   "source": [
    "for i in range(6):\n",
    "        \n",
    "        for j in range(6):\n",
    "                print(chr(65+i),end =' ')\n",
    "        print()\n",
    "\n",
    "\n"
   ]
  },
  {
   "cell_type": "code",
   "execution_count": 5,
   "metadata": {},
   "outputs": [
    {
     "name": "stdout",
     "output_type": "stream",
     "text": [
      "A B C D E F \n",
      "A B C D E F \n",
      "A B C D E F \n",
      "A B C D E F \n",
      "A B C D E F \n",
      "A B C D E F \n"
     ]
    }
   ],
   "source": [
    "for i in range(6):\n",
    "        \n",
    "        for j in range(6):\n",
    "                print(chr(65+j),end =' ')\n",
    "        print()\n"
   ]
  },
  {
   "cell_type": "code",
   "execution_count": 22,
   "metadata": {},
   "outputs": [
    {
     "name": "stdout",
     "output_type": "stream",
     "text": [
      "A A A A A A \n",
      "A A A A A A \n",
      "A A A A A A \n",
      "A A A A A A \n",
      "A A A A A A \n",
      "A A A A A A \n"
     ]
    }
   ],
   "source": [
    "for i in range(6):\n",
    "        \n",
    "        for j in range(6):\n",
    "                print(chr(65),end =' ')\n",
    "        print()\n"
   ]
  },
  {
   "cell_type": "code",
   "execution_count": 23,
   "metadata": {},
   "outputs": [
    {
     "name": "stdout",
     "output_type": "stream",
     "text": [
      "\n",
      "\n",
      "A \n",
      "A A \n",
      "A A A \n",
      "A A A A \n"
     ]
    }
   ],
   "source": [
    "\n",
    "for i in range(6):\n",
    "        \n",
    "        for j in range(1,i):\n",
    "                print(chr(65),end =' ')\n",
    "        print()\n"
   ]
  },
  {
   "cell_type": "code",
   "execution_count": 24,
   "metadata": {},
   "outputs": [
    {
     "name": "stdout",
     "output_type": "stream",
     "text": [
      "\n",
      "A \n",
      "A B \n",
      "A B C \n",
      "A B C D \n",
      "A B C D E \n"
     ]
    }
   ],
   "source": [
    "\n",
    "for i in range(6):\n",
    "        \n",
    "        for j in range(i):\n",
    "                print(chr(65+j),end =' ')\n",
    "        print()\n"
   ]
  },
  {
   "cell_type": "code",
   "execution_count": 25,
   "metadata": {},
   "outputs": [
    {
     "name": "stdout",
     "output_type": "stream",
     "text": [
      "number of rows:5\n",
      "1 2 3 4 5 \n",
      "1 2 3 4 \n",
      "1 2 3 \n",
      "1 2 \n",
      "1 \n"
     ]
    }
   ],
   "source": [
    "n= int(input(\"number of rows:\"))\n",
    "for i in range(n):\n",
    "        \n",
    "        for j in range(n-i):\n",
    "                print((j+1),end =' ')\n",
    "        print()\n",
    "                        \n"
   ]
  },
  {
   "cell_type": "code",
   "execution_count": 26,
   "metadata": {},
   "outputs": [
    {
     "name": "stdout",
     "output_type": "stream",
     "text": [
      "number of rows:5\n",
      "A B C D E \n",
      "A B C D \n",
      "A B C \n",
      "A B \n",
      "A \n"
     ]
    }
   ],
   "source": [
    "# inverted triangle for char \n",
    "n= int(input(\"number of rows:\"))\n",
    "for i in range(n):\n",
    "        \n",
    "        for j in range(n-i):\n",
    "                print(chr(65+j),end =' ')\n",
    "        print()\n"
   ]
  },
  {
   "cell_type": "code",
   "execution_count": 27,
   "metadata": {},
   "outputs": [
    {
     "name": "stdout",
     "output_type": "stream",
     "text": [
      "number of rows:5\n",
      "1 1 1 1 1 \n",
      "2 2 2 2 \n",
      "3 3 3 \n",
      "4 4 \n",
      "5 \n"
     ]
    }
   ],
   "source": [
    "\n",
    "n= int(input(\"number of rows:\"))\n",
    "for i in range(n):\n",
    "        \n",
    "        for j in range(n-i):\n",
    "                print((i+1),end =' ')\n",
    "        print()\n"
   ]
  },
  {
   "cell_type": "code",
   "execution_count": 30,
   "metadata": {},
   "outputs": [
    {
     "name": "stdout",
     "output_type": "stream",
     "text": [
      "number of rows:6\n",
      "6 6 6 6 6 6 \n",
      "6 6 6 6 6 \n",
      "6 6 6 6 \n",
      "6 6 6 \n",
      "6 6 \n",
      "6 \n"
     ]
    }
   ],
   "source": [
    "n= int(input(\"number of rows:\"))\n",
    "for i in range(n):\n",
    "        \n",
    "        for j in range(n-i):\n",
    "                print((n),end =' ')\n",
    "        print()\n",
    "\n"
   ]
  },
  {
   "cell_type": "code",
   "execution_count": 29,
   "metadata": {},
   "outputs": [
    {
     "name": "stdout",
     "output_type": "stream",
     "text": [
      "number of rows:6\n",
      "0 1 2 3 4 5 \n",
      "0 1 2 3 4 \n",
      "0 1 2 3 \n",
      "0 1 2 \n",
      "0 1 \n",
      "0 \n"
     ]
    }
   ],
   "source": [
    "n= int(input(\"number of rows:\"))\n",
    "for i in range(n):\n",
    "        \n",
    "        for j in range(n-i):\n",
    "                print(j,end =' ')\n",
    "        print()\n"
   ]
  },
  {
   "cell_type": "code",
   "execution_count": 31,
   "metadata": {},
   "outputs": [
    {
     "name": "stdout",
     "output_type": "stream",
     "text": [
      "number of rows:6\n",
      "0 0 0 0 0 0 \n",
      "1 1 1 1 1 \n",
      "2 2 2 2 \n",
      "3 3 3 \n",
      "4 4 \n",
      "5 \n"
     ]
    }
   ],
   "source": [
    "n= int(input(\"number of rows:\"))\n",
    "for i in range(n):\n",
    "        \n",
    "        for j in range(n-i):\n",
    "                print(i,end =' ')\n",
    "        print()\n"
   ]
  },
  {
   "cell_type": "code",
   "execution_count": 32,
   "metadata": {},
   "outputs": [
    {
     "name": "stdout",
     "output_type": "stream",
     "text": [
      "number of rows:7\n",
      "7 7 7 7 7 7 7 \n",
      "6 6 6 6 6 6 \n",
      "5 5 5 5 5 \n",
      "4 4 4 4 \n",
      "3 3 3 \n",
      "2 2 \n",
      "1 \n"
     ]
    }
   ],
   "source": [
    "n= int(input(\"number of rows:\"))\n",
    "for i in range(n):\n",
    "        \n",
    "        for j in range(n-i):\n",
    "                print(n-i,end =' ')\n",
    "        print()\n"
   ]
  },
  {
   "cell_type": "code",
   "execution_count": 33,
   "metadata": {},
   "outputs": [
    {
     "name": "stdout",
     "output_type": "stream",
     "text": [
      "number of rows:7\n",
      "7 6 5 4 3 2 1 \n",
      "7 6 5 4 3 2 \n",
      "7 6 5 4 3 \n",
      "7 6 5 4 \n",
      "7 6 5 \n",
      "7 6 \n",
      "7 \n"
     ]
    }
   ],
   "source": [
    "n= int(input(\"number of rows:\"))\n",
    "for i in range(n):\n",
    "        \n",
    "        for j in range(n-i):\n",
    "                print(n-j,end =' ')\n",
    "        print()\n"
   ]
  },
  {
   "cell_type": "code",
   "execution_count": 34,
   "metadata": {},
   "outputs": [
    {
     "name": "stdout",
     "output_type": "stream",
     "text": [
      "number of rows:7\n",
      "A B C D E F G \n",
      "A B C D E F \n",
      "A B C D E \n",
      "A B C D \n",
      "A B C \n",
      "A B \n",
      "A \n"
     ]
    }
   ],
   "source": [
    "n= int(input(\"number of rows:\"))\n",
    "for i in range(n):\n",
    "        \n",
    "        for j in range(n-i):\n",
    "                print(chr(65+j),end =' ')\n",
    "        print()\n"
   ]
  },
  {
   "cell_type": "code",
   "execution_count": 35,
   "metadata": {},
   "outputs": [
    {
     "name": "stdout",
     "output_type": "stream",
     "text": [
      "number of rows:7\n",
      "A A A A A A A \n",
      "B B B B B B \n",
      "C C C C C \n",
      "D D D D \n",
      "E E E \n",
      "F F \n",
      "G \n"
     ]
    }
   ],
   "source": [
    "n= int(input(\"number of rows:\"))\n",
    "for i in range(n):\n",
    "        \n",
    "        for j in range(n-i):\n",
    "                print(chr(65+i),end =' ')\n",
    "        print()\n"
   ]
  },
  {
   "cell_type": "code",
   "execution_count": 36,
   "metadata": {},
   "outputs": [
    {
     "name": "stdout",
     "output_type": "stream",
     "text": [
      "number of rows:7\n",
      "G G G G G G G \n",
      "F F F F F F \n",
      "E E E E E \n",
      "D D D D \n",
      "C C C \n",
      "B B \n",
      "A \n",
      "\n"
     ]
    }
   ],
   "source": [
    "n= int(input(\"number of rows:\"))\n",
    "for i in range(n+1):\n",
    "        \n",
    "        for j in range(n-i):\n",
    "                print(chr(65+(n-i-1)),end =' ')\n",
    "        print()\n"
   ]
  },
  {
   "cell_type": "code",
   "execution_count": 37,
   "metadata": {},
   "outputs": [
    {
     "name": "stdout",
     "output_type": "stream",
     "text": [
      "number of rows:7\n",
      "G G G G G G G \n",
      "  F F F F F F \n",
      "    E E E E E \n",
      "      D D D D \n",
      "        C C C \n",
      "          B B \n",
      "            A \n",
      "              "
     ]
    }
   ],
   "source": [
    "n= int(input(\"number of rows:\"))\n",
    "\n",
    "\n",
    "for i in range(n):\n",
    "        \n",
    "        for j in range(n-i):\n",
    "                print(chr(65+(n-i-1)),end =' ')\n",
    "        print()\n",
    "        for k in range(n-j):\n",
    "                print(\" \", end=\" \")\n"
   ]
  },
  {
   "cell_type": "code",
   "execution_count": 38,
   "metadata": {},
   "outputs": [
    {
     "name": "stdout",
     "output_type": "stream",
     "text": [
      "number of rows:7\n",
      "G F E D C B A \n",
      "  G F E D C B \n",
      "    G F E D C \n",
      "      G F E D \n",
      "        G F E \n",
      "          G F \n",
      "            G \n",
      "              "
     ]
    }
   ],
   "source": [
    "n= int(input(\"number of rows:\"))\n",
    "for i in range(n):\n",
    "        \n",
    "        for j in range(n-i):\n",
    "                print(chr(65+(n-j-1)),end =' ')\n",
    "        print()\n",
    "        for k in range(n-j):\n",
    "                print(\" \", end=\" \")\n"
   ]
  },
  {
   "cell_type": "code",
   "execution_count": 39,
   "metadata": {},
   "outputs": [
    {
     "name": "stdout",
     "output_type": "stream",
     "text": [
      "number of rows:7\n",
      "G G G G G G G \n",
      "  G G G G G G \n",
      "    G G G G G \n",
      "      G G G G \n",
      "        G G G \n",
      "          G G \n",
      "            G \n",
      "              "
     ]
    }
   ],
   "source": [
    "n= int(input(\"number of rows:\"))\n",
    "for i in range(n):\n",
    "        \n",
    "        for j in range(n-i):\n",
    "                print(chr(65+(n-1)),end =' ')\n",
    "        print()\n",
    "        for k in range(n-j):\n",
    "                print(\" \", end=\" \")\n"
   ]
  },
  {
   "cell_type": "code",
   "execution_count": 40,
   "metadata": {},
   "outputs": [
    {
     "name": "stdout",
     "output_type": "stream",
     "text": [
      "number of rows:7\n",
      "              G \n",
      "            G G \n",
      "          G G G \n",
      "        G G G G \n",
      "      G G G G G \n",
      "    G G G G G G \n",
      "  G G G G G G G \n"
     ]
    }
   ],
   "source": [
    "n= int(input(\"number of rows:\"))\n",
    "for i in range(n):\n",
    "        \n",
    "        for j in range(n-i):\n",
    "                print(\" \", end=\" \")\n",
    "        \n",
    "        for k in range(n-j):\n",
    "                print(chr(65+(n-1)),end =' ')\n",
    "        print()\n"
   ]
  },
  {
   "cell_type": "code",
   "execution_count": 41,
   "metadata": {},
   "outputs": [
    {
     "name": "stdout",
     "output_type": "stream",
     "text": [
      "number of rows:6\n",
      "            * \n",
      "          * * \n",
      "        * * * \n",
      "      * * * * \n",
      "    * * * * * \n",
      "  * * * * * * \n"
     ]
    }
   ],
   "source": [
    "n= int(input(\"number of rows:\"))\n",
    "for i in range(n):\n",
    "        \n",
    "        for j in range(n-i):\n",
    "                print(\" \", end=\" \")\n",
    "        \n",
    "        for k in range(n-j):\n",
    "                print(\"*\",end =' ')\n",
    "        print()\n"
   ]
  },
  {
   "cell_type": "code",
   "execution_count": 42,
   "metadata": {},
   "outputs": [
    {
     "name": "stdout",
     "output_type": "stream",
     "text": [
      "number of rows:7\n",
      "              \n",
      "            1 \n",
      "          2 2 \n",
      "        3 3 3 \n",
      "      4 4 4 4 \n",
      "    5 5 5 5 5 \n",
      "  6 6 6 6 6 6 \n"
     ]
    }
   ],
   "source": [
    "n= int(input(\"number of rows:\"))\n",
    "for i in range(n):\n",
    "        \n",
    "        for j in range(n-i):\n",
    "                print(\" \", end=\" \")\n",
    "        \n",
    "        for k in range(1,n-j):\n",
    "                print(i,end =' ')\n",
    "        print()\n"
   ]
  },
  {
   "cell_type": "code",
   "execution_count": 43,
   "metadata": {},
   "outputs": [
    {
     "name": "stdout",
     "output_type": "stream",
     "text": [
      "number of rows:8\n",
      "                \n",
      "              1 \n",
      "            1 2 \n",
      "          1 2 3 \n",
      "        1 2 3 4 \n",
      "      1 2 3 4 5 \n",
      "    1 2 3 4 5 6 \n",
      "  1 2 3 4 5 6 7 \n"
     ]
    }
   ],
   "source": [
    "n= int(input(\"number of rows:\"))\n",
    "for i in range(n):\n",
    "        \n",
    "        for j in range(n-i):\n",
    "                print(\" \", end=\" \")\n",
    "        \n",
    "        for k in range(1,n-j):\n",
    "                print(k,end =' ')\n",
    "        print()\n"
   ]
  },
  {
   "cell_type": "code",
   "execution_count": 44,
   "metadata": {},
   "outputs": [
    {
     "name": "stdout",
     "output_type": "stream",
     "text": [
      "number of rows:9\n",
      "                  \n",
      "                A \n",
      "              A B \n",
      "            A B C \n",
      "          A B C D \n",
      "        A B C D E \n",
      "      A B C D E F \n",
      "    A B C D E F G \n",
      "  A B C D E F G H \n"
     ]
    }
   ],
   "source": [
    "n= int(input(\"number of rows:\"))\n",
    "for i in range(n):\n",
    "        \n",
    "        for j in range(n-i):\n",
    "                print(\" \", end=\" \")\n",
    "        \n",
    "        for k in range(1,n-j):\n",
    "                print(chr(65+k-1),end =' ')\n",
    "        print()"
   ]
  },
  {
   "cell_type": "code",
   "execution_count": 45,
   "metadata": {},
   "outputs": [
    {
     "name": "stdout",
     "output_type": "stream",
     "text": [
      "number of rows:9\n",
      "A A A A A A A A A \n",
      "  B B B B B B B B \n",
      "    C C C C C C C \n",
      "      D D D D D D \n",
      "        E E E E E \n",
      "          F F F F \n",
      "            G G G \n",
      "              H H \n",
      "                I \n",
      "                  "
     ]
    }
   ],
   "source": [
    "n= int(input(\"number of rows:\"))\n",
    "for i in range(n):\n",
    "        \n",
    "        for j in range(n-i):\n",
    "                print(chr(65+(i)),end =' ')\n",
    "        print()\n",
    "        for k in range(n-j):\n",
    "                print(\" \", end=\" \")\n"
   ]
  },
  {
   "cell_type": "code",
   "execution_count": 46,
   "metadata": {},
   "outputs": [
    {
     "name": "stdout",
     "output_type": "stream",
     "text": [
      "number of rows:9\n",
      "0 1 2 3 4 5 6 7 8 \n",
      "  0 1 2 3 4 5 6 7 \n",
      "    0 1 2 3 4 5 6 \n",
      "      0 1 2 3 4 5 \n",
      "        0 1 2 3 4 \n",
      "          0 1 2 3 \n",
      "            0 1 2 \n",
      "              0 1 \n",
      "                0 \n",
      "                  "
     ]
    }
   ],
   "source": [
    "n= int(input(\"number of rows:\"))\n",
    "for i in range(n):\n",
    "        \n",
    "        for j in range(n-i):\n",
    "                print(j,end =' ')\n",
    "        print()\n",
    "        for k in range(n-j):\n",
    "                print(\" \", end=\" \")\n"
   ]
  },
  {
   "cell_type": "code",
   "execution_count": 47,
   "metadata": {},
   "outputs": [
    {
     "name": "stdout",
     "output_type": "stream",
     "text": [
      "number of rows:9\n",
      "9 8 7 6 5 4 3 2 1 \n",
      "  9 8 7 6 5 4 3 2 \n",
      "    9 8 7 6 5 4 3 \n",
      "      9 8 7 6 5 4 \n",
      "        9 8 7 6 5 \n",
      "          9 8 7 6 \n",
      "            9 8 7 \n",
      "              9 8 \n",
      "                9 \n",
      "                  "
     ]
    }
   ],
   "source": [
    "n= int(input(\"number of rows:\"))\n",
    "for i in range(n):\n",
    "        \n",
    "        for j in range(n-i):\n",
    "                print(n-j,end =' ')\n",
    "        print()\n",
    "        for k in range(n-j):\n",
    "                print(\" \", end=\" \")\n"
   ]
  },
  {
   "cell_type": "code",
   "execution_count": 48,
   "metadata": {},
   "outputs": [
    {
     "name": "stdout",
     "output_type": "stream",
     "text": [
      "number of rows:9\n",
      "8 8 8 8 8 8 8 8 8 \n",
      "  7 7 7 7 7 7 7 7 \n",
      "    6 6 6 6 6 6 6 \n",
      "      5 5 5 5 5 5 \n",
      "        4 4 4 4 4 \n",
      "          3 3 3 3 \n",
      "            2 2 2 \n",
      "              1 1 \n",
      "                0 \n",
      "                  "
     ]
    }
   ],
   "source": [
    "n= int(input(\"number of rows:\"))\n",
    "for i in range(n):\n",
    "        \n",
    "        for j in range(n-i):\n",
    "                print(n-i-1,end =' ')\n",
    "        print()\n",
    "        for k in range(n-j):\n",
    "                print(\" \", end=\" \")\n"
   ]
  },
  {
   "cell_type": "code",
   "execution_count": 49,
   "metadata": {},
   "outputs": [
    {
     "name": "stdout",
     "output_type": "stream",
     "text": [
      "number of rows:9\n",
      "                  \n",
      "                \n",
      "1               \n",
      "2 2             \n",
      "3 3 3           \n",
      "4 4 4 4         \n",
      "5 5 5 5 5       \n",
      "6 6 6 6 6 6     \n",
      "7 7 7 7 7 7 7   \n",
      "8 8 8 8 8 8 8 8 "
     ]
    }
   ],
   "source": [
    "n= int(input(\"number of rows:\"))\n",
    "for i in range(n):\n",
    "        \n",
    "        for j in range(n-i):\n",
    "                print(\" \", end=\" \")\n",
    "        print()\n",
    "        for k in range(1,n-j):\n",
    "                print(i,end =' ')\n",
    "\n"
   ]
  },
  {
   "cell_type": "code",
   "execution_count": null,
   "metadata": {},
   "outputs": [],
   "source": []
  }
 ],
 "metadata": {
  "kernelspec": {
   "display_name": "Python 3",
   "language": "python",
   "name": "python3"
  },
  "language_info": {
   "codemirror_mode": {
    "name": "ipython",
    "version": 3
   },
   "file_extension": ".py",
   "mimetype": "text/x-python",
   "name": "python",
   "nbconvert_exporter": "python",
   "pygments_lexer": "ipython3",
   "version": "3.7.4"
  }
 },
 "nbformat": 4,
 "nbformat_minor": 4
}
