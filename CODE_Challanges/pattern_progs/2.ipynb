{
 "cells": [
  {
   "cell_type": "code",
   "execution_count": 1,
   "metadata": {},
   "outputs": [
    {
     "name": "stdout",
     "output_type": "stream",
     "text": [
      "number of rows:7\n",
      "       * \n",
      "      * * \n",
      "     * * * \n",
      "    * * * * \n",
      "   * * * * * \n",
      "  * * * * * * \n",
      " * * * * * * * \n"
     ]
    }
   ],
   "source": [
    "#pyramid patterns\n",
    "\n",
    "\n",
    "n= int(input(\"number of rows:\"))\n",
    "for i in range(n):\n",
    "        \n",
    "        for j in range(n-i):\n",
    "                print(\" \",end ='')\n",
    "        for k in range(n-j):\n",
    "                print(\"*\",end =' ')\n",
    "        print()\n"
   ]
  },
  {
   "cell_type": "code",
   "execution_count": 2,
   "metadata": {},
   "outputs": [
    {
     "name": "stdout",
     "output_type": "stream",
     "text": [
      "number of rows:8\n",
      "* * * * * * * * \n",
      " * * * * * * * \n",
      "  * * * * * * \n",
      "   * * * * * \n",
      "    * * * * \n",
      "     * * * \n",
      "      * * \n",
      "       * \n",
      "        \n",
      "        "
     ]
    }
   ],
   "source": [
    "n= int(input(\"number of rows:\"))\n",
    "for i in range(n+1):\n",
    "        \n",
    "        for j in range(n-i):\n",
    "                print(\"*\",end =' ')\n",
    "        print()\n",
    "        for k in range(n-j):\n",
    "                print(\" \", end=\"\")\n"
   ]
  },
  {
   "cell_type": "code",
   "execution_count": 3,
   "metadata": {},
   "outputs": [
    {
     "name": "stdout",
     "output_type": "stream",
     "text": [
      "number of rows:9\n",
      "I I I I I I I I I \n",
      " H H H H H H H H \n",
      "  G G G G G G G \n",
      "   F F F F F F \n",
      "    E E E E E \n",
      "     D D D D \n",
      "      C C C \n",
      "       B B \n",
      "        A \n",
      "         \n",
      "         "
     ]
    }
   ],
   "source": [
    "n= int(input(\"number of rows:\"))\n",
    "for i in range(n+1):\n",
    "        \n",
    "        for j in range(n-i):\n",
    "                print(chr(65+(n-i-1)),end =' ')\n",
    "        print()\n",
    "        for k in range(n-j):\n",
    "                print(\" \", end=\"\")\n",
    "\n",
    "                "
   ]
  },
  {
   "cell_type": "code",
   "execution_count": 4,
   "metadata": {},
   "outputs": [
    {
     "name": "stdout",
     "output_type": "stream",
     "text": [
      "number of rows:8\n",
      "        A \n",
      "       B B \n",
      "      C C C \n",
      "     D D D D \n",
      "    E E E E E \n",
      "   F F F F F F \n",
      "  G G G G G G G \n",
      " H H H H H H H H \n"
     ]
    }
   ],
   "source": [
    "n= int(input(\"number of rows:\"))\n",
    "for i in range(n):\n",
    "        \n",
    "        for j in range(n-i):\n",
    "                print(\" \",end ='')\n",
    "        for k in range(n-j):\n",
    "                print(chr(65+i),end =' ')\n",
    "        print()\n"
   ]
  },
  {
   "cell_type": "code",
   "execution_count": 5,
   "metadata": {},
   "outputs": [
    {
     "name": "stdout",
     "output_type": "stream",
     "text": [
      "number of rows:8\n",
      "         \n",
      "        1 \n",
      "       2 2 \n",
      "      3 3 3 \n",
      "     4 4 4 4 \n",
      "    5 5 5 5 5 \n",
      "   6 6 6 6 6 6 \n",
      "  7 7 7 7 7 7 7 \n",
      " 8 8 8 8 8 8 8 8 \n"
     ]
    }
   ],
   "source": [
    "n= int(input(\"number of rows:\"))\n",
    "for i in range(n+1):\n",
    "        \n",
    "        for j in range(n-i+1):\n",
    "                print(\" \",end ='')\n",
    "        for k in range(n-j):\n",
    "                print(i,end =' ')\n",
    "        print()\n"
   ]
  },
  {
   "cell_type": "code",
   "execution_count": 6,
   "metadata": {},
   "outputs": [
    {
     "name": "stdout",
     "output_type": "stream",
     "text": [
      "number of rows:9\n",
      "          \n",
      "         1 \n",
      "        2 2 \n",
      "       3 3 3 \n",
      "      4 4 4 4 \n",
      "     5 5 5 5 5 \n",
      "    6 6 6 6 6 6 \n",
      "   7 7 7 7 7 7 7 \n",
      "  8 8 8 8 8 8 8 8 \n",
      " 9 9 9 9 9 9 9 9 9 \n"
     ]
    }
   ],
   "source": [
    "n= int(input(\"number of rows:\"))\n",
    "for i in range(n+1):\n",
    "        \n",
    "        for j in range(n-i+1):\n",
    "                print(\" \",end ='')\n",
    "        for k in range(n-j):\n",
    "                print(i,end =' ')\n",
    "        print()\n"
   ]
  },
  {
   "cell_type": "code",
   "execution_count": 7,
   "metadata": {},
   "outputs": [
    {
     "name": "stdout",
     "output_type": "stream",
     "text": [
      "number of rows:9\n",
      "9 9 9 9 9 9 9 9 9 \n",
      " 8 8 8 8 8 8 8 8 \n",
      "  7 7 7 7 7 7 7 \n",
      "   6 6 6 6 6 6 \n",
      "    5 5 5 5 5 \n",
      "     4 4 4 4 \n",
      "      3 3 3 \n",
      "       2 2 \n",
      "        1 \n",
      "         \n",
      "         "
     ]
    }
   ],
   "source": [
    "n= int(input(\"number of rows:\"))\n",
    "for i in range(n+1):\n",
    "        \n",
    "        for j in range(n-i):\n",
    "                print(n-i,end =' ')\n",
    "        print()\n",
    "        for k in range(n-j):\n",
    "                print(\" \", end=\"\")\n"
   ]
  },
  {
   "cell_type": "code",
   "execution_count": 8,
   "metadata": {},
   "outputs": [
    {
     "name": "stdout",
     "output_type": "stream",
     "text": [
      "number of rows:9\n",
      "          \n",
      "         1 \n",
      "        \n",
      "       3 3 3 \n",
      "      \n",
      "     5 5 5 5 5 \n",
      "    \n",
      "   7 7 7 7 7 7 7 \n",
      "  \n",
      " 9 9 9 9 9 9 9 9 9 \n"
     ]
    }
   ],
   "source": [
    "n= int(input(\"number of rows:\"))\n",
    "for i in range(n+1):\n",
    "        \n",
    "        for j in range(n-i+1):\n",
    "            \n",
    "            print(\" \",end ='')\n",
    "            \n",
    "        for k in range(n-j):\n",
    "            if (i%2!=0):\n",
    "                print(i,end =' ')\n",
    "            \n",
    "        print()\n"
   ]
  },
  {
   "cell_type": "code",
   "execution_count": 9,
   "metadata": {},
   "outputs": [
    {
     "name": "stdout",
     "output_type": "stream",
     "text": [
      "number of rows:9\n",
      "          \n",
      "         A \n",
      "        \n",
      "       C C C \n",
      "      \n",
      "     E E E E E \n",
      "    \n",
      "   G G G G G G G \n",
      "  \n",
      " I I I I I I I I I \n"
     ]
    }
   ],
   "source": [
    "n= int(input(\"number of rows:\"))\n",
    "for i in range(n+1):\n",
    "        \n",
    "        for j in range(n-i+1):\n",
    "            \n",
    "            print(\" \",end ='')\n",
    "            \n",
    "        for k in range(n-j):\n",
    "            if (i%2!=0):\n",
    "                print(chr(65+i-1),end =' ')\n",
    "            \n",
    "        print()\n"
   ]
  },
  {
   "cell_type": "code",
   "execution_count": 10,
   "metadata": {},
   "outputs": [
    {
     "name": "stdout",
     "output_type": "stream",
     "text": [
      "number of rows:9\n",
      "          \n",
      "         8 \n",
      "        7 7 \n",
      "       6 6 6 \n",
      "      5 5 5 5 \n",
      "     4 4 4 4 4 \n",
      "    3 3 3 3 3 3 \n",
      "   2 2 2 2 2 2 2 \n",
      "  1 1 1 1 1 1 1 1 \n",
      " 0 0 0 0 0 0 0 0 0 \n"
     ]
    }
   ],
   "source": [
    "n= int(input(\"number of rows:\"))\n",
    "for i in range(n+1):\n",
    "        \n",
    "        for j in range(n-i+1):\n",
    "                print(\" \",end ='')\n",
    "        for k in range(n-j):\n",
    "                print(j,end =' ')\n",
    "        print()\n",
    "\n"
   ]
  },
  {
   "cell_type": "code",
   "execution_count": 13,
   "metadata": {},
   "outputs": [
    {
     "name": "stdout",
     "output_type": "stream",
     "text": [
      "enter number of rowa:6\n",
      "      \n",
      "     1 \n",
      "    2 3 \n",
      "   3 4 5 \n",
      "  4 5 6 7 \n",
      " 5 6 7 8 9 \n"
     ]
    }
   ],
   "source": [
    "n = int(input(\"enter number of rowa:\"))\n",
    "for a in range(n):\n",
    "        \n",
    "        for b in range(n-a):\n",
    "                print(\"\", end=\" \")\n",
    "        \n",
    "        for c in range(1,n-b):\n",
    "                \n",
    "                print(c+a-1,end =' ')\n",
    "        \n",
    "        print()\n"
   ]
  },
  {
   "cell_type": "code",
   "execution_count": 14,
   "metadata": {},
   "outputs": [
    {
     "name": "stdout",
     "output_type": "stream",
     "text": [
      "enter number of rowa:8\n",
      "        \n",
      "       6 \n",
      "      5 6 \n",
      "     4 5 6 \n",
      "    3 4 5 6 \n",
      "   2 3 4 5 6 \n",
      "  1 2 3 4 5 6 \n",
      " 0 1 2 3 4 5 6 \n"
     ]
    }
   ],
   "source": [
    "n = int(input(\"enter number of rowa:\"))\n",
    "for a in range(n):\n",
    "        \n",
    "        for b in range(n-a):\n",
    "                print(\"\", end=\" \")\n",
    "        \n",
    "        for c in range(1,n-b):\n",
    "                        \n",
    "                print(c+b-1,end =' ')\n",
    "        \n",
    "        print()\n"
   ]
  },
  {
   "cell_type": "code",
   "execution_count": 15,
   "metadata": {},
   "outputs": [
    {
     "name": "stdout",
     "output_type": "stream",
     "text": [
      "number of rows:9\n",
      "                  \n",
      "*                 \n",
      "* *               \n",
      "* * *             \n",
      "* * * *           \n",
      "* * * * *         \n",
      "* * * * * *       \n",
      "* * * * * * *     \n",
      "* * * * * * * *         \n",
      "* * * * * * * * *   \n",
      "* * * * * * * *         \n",
      "* * * * * * *   \n",
      "* * * * * *         \n",
      "* * * * *   \n",
      "* * * *         \n",
      "* * *   \n",
      "* *         \n",
      "* "
     ]
    }
   ],
   "source": [
    "n= int(input(\"number of rows:\"))\n",
    "for i in range(n-1):\n",
    "        \n",
    "        for j in range(n-i):\n",
    "                print(\" \", end=\" \")\n",
    "        print()\n",
    "        for k in range(n-j):\n",
    "                print(\"*\",end =' ')\n",
    "        \n",
    "for i in range(n):\n",
    "        \n",
    "        for j in range(n-j):\n",
    "                print(' ',end ='')\n",
    "        print()\n",
    "        for k in range(n-i):\n",
    "                print(\"*\", end=\" \")\n"
   ]
  },
  {
   "cell_type": "code",
   "execution_count": null,
   "metadata": {},
   "outputs": [],
   "source": []
  }
 ],
 "metadata": {
  "kernelspec": {
   "display_name": "Python 3",
   "language": "python",
   "name": "python3"
  },
  "language_info": {
   "codemirror_mode": {
    "name": "ipython",
    "version": 3
   },
   "file_extension": ".py",
   "mimetype": "text/x-python",
   "name": "python",
   "nbconvert_exporter": "python",
   "pygments_lexer": "ipython3",
   "version": "3.7.4"
  }
 },
 "nbformat": 4,
 "nbformat_minor": 4
}
